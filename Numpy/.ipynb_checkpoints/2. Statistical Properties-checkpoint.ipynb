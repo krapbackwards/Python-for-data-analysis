{
 "cells": [
  {
   "cell_type": "markdown",
   "metadata": {},
   "source": [
    "In this notebook we will discuss statistical properties."
   ]
  },
  {
   "cell_type": "code",
   "execution_count": 1,
   "metadata": {},
   "outputs": [],
   "source": [
    "import numpy as np"
   ]
  },
  {
   "cell_type": "code",
   "execution_count": 2,
   "metadata": {},
   "outputs": [
    {
     "name": "stdout",
     "output_type": "stream",
     "text": [
      "[[ 5  7  9]\n",
      " [ 3 -6 11]\n",
      " [ 2 -8 13]]\n",
      "-8\n",
      "[ 2 -8  9]\n",
      "[ 5 -6 -8]\n"
     ]
    }
   ],
   "source": [
    "# min() will return the minimum value \n",
    "\n",
    "a = np.array([[5, 7, 9], [3, -6, 11], [2, -8, 13]])\n",
    "print(a)\n",
    "print(np.min(a))\n",
    "print(np.min(a, 0)) # along the columns\n",
    "print(np.min(a, 1)) # along the rows"
   ]
  },
  {
   "cell_type": "code",
   "execution_count": 3,
   "metadata": {},
   "outputs": [
    {
     "name": "stdout",
     "output_type": "stream",
     "text": [
      "[[ 5  7  9]\n",
      " [ 3  6 11]\n",
      " [ 2  8 13]]\n",
      "13\n",
      "[ 5  8 13]\n",
      "[ 9 11 13]\n"
     ]
    }
   ],
   "source": [
    "# max() will return the maximum value\n",
    "\n",
    "a = np.array([[5, 7, 9], [3, 6, 11], [2, 8, 13]])\n",
    "print(a)\n",
    "print(np.max(a))\n",
    "print(np.max(a, 0)) # along the columns\n",
    "print(np.max(a, 1)) # along the rows"
   ]
  },
  {
   "cell_type": "code",
   "execution_count": 4,
   "metadata": {},
   "outputs": [
    {
     "name": "stdout",
     "output_type": "stream",
     "text": [
      "[[ 5  7  9]\n",
      " [ 3  6 11]\n",
      " [ 2  8 13]]\n",
      "11\n",
      "[3 2 4]\n",
      "[ 4  8 11]\n"
     ]
    }
   ],
   "source": [
    "# ptp() returns the max value minus min value along a specified axis\n",
    "\n",
    "a = np.array([[5, 7, 9], [3, 6, 11], [2, 8, 13]])\n",
    "print(a)\n",
    "print(np.ptp(a))\n",
    "print(np.ptp(a, 0)) # along the columns\n",
    "print(np.ptp(a, 1)) # along the rows"
   ]
  },
  {
   "cell_type": "code",
   "execution_count": 5,
   "metadata": {},
   "outputs": [
    {
     "name": "stdout",
     "output_type": "stream",
     "text": [
      "[[20 10 50]\n",
      " [30 50 70]\n",
      " [60 40 10]]\n",
      "40.0\n",
      "[30. 40. 50.]\n",
      "[20. 50. 40.]\n"
     ]
    }
   ],
   "source": [
    "a = np.array([[20, 10, 50], [30, 50, 70], [60, 40, 10]])\n",
    "print(a)\n",
    "print(np.percentile(a, 50))\n",
    "print(np.percentile(a, 50, axis=0)) # along the columns\n",
    "print(np.percentile(a, 50, axis=1)) # along the rows"
   ]
  },
  {
   "cell_type": "code",
   "execution_count": 6,
   "metadata": {},
   "outputs": [
    {
     "name": "stdout",
     "output_type": "stream",
     "text": [
      "[[20 10 50]\n",
      " [30 50 70]\n",
      " [60 40 10]]\n",
      "37.77777777777778\n",
      "[36.66666667 33.33333333 43.33333333]\n",
      "[26.66666667 50.         36.66666667]\n"
     ]
    }
   ],
   "source": [
    "# mean() turns the mean or the average\n",
    "\n",
    "a = np.array([[20, 10, 50], [30, 50, 70], [60, 40, 10]])\n",
    "print(a)\n",
    "print(np.mean(a))\n",
    "print(np.mean(a, axis=0)) # along the columns\n",
    "print(np.mean(a, axis=1)) # along the rows"
   ]
  },
  {
   "cell_type": "code",
   "execution_count": 7,
   "metadata": {},
   "outputs": [
    {
     "name": "stdout",
     "output_type": "stream",
     "text": [
      "[[20 10 50]\n",
      " [30 50 70]\n",
      " [60 40 10]]\n",
      "40.0\n",
      "[30. 40. 50.]\n",
      "[20. 50. 40.]\n"
     ]
    }
   ],
   "source": [
    "# median() returns the median \n",
    "\n",
    "a = np.array([[20, 10, 50], [30, 50, 70], [60, 40, 10]])\n",
    "print(a)\n",
    "print(np.median(a))\n",
    "print(np.median(a, axis=0)) # along the columns\n",
    "print(np.median(a, axis=1)) # along the rows"
   ]
  },
  {
   "cell_type": "code",
   "execution_count": 8,
   "metadata": {},
   "outputs": [
    {
     "name": "stdout",
     "output_type": "stream",
     "text": [
      "2.0\n"
     ]
    }
   ],
   "source": [
    "# determining average using weights\n",
    "\n",
    "a = np.array([1, 2, 3, 4])\n",
    "wts = np.array([4, 3, 2, 1])\n",
    "print(np.average(a, weights=wts))"
   ]
  },
  {
   "cell_type": "code",
   "execution_count": 9,
   "metadata": {},
   "outputs": [
    {
     "name": "stdout",
     "output_type": "stream",
     "text": [
      "(2.0, 10.0)\n"
     ]
    }
   ],
   "source": [
    "# determining average using weights\n",
    "# when returned = True, it returns the average value as well as the \n",
    "# sum of the weights\n",
    "\n",
    "a = np.array([1, 2, 3, 4])\n",
    "wts = np.array([4, 3, 2, 1])\n",
    "print(np.average(a, weights=wts, returned = True))"
   ]
  },
  {
   "cell_type": "code",
   "execution_count": 10,
   "metadata": {},
   "outputs": [
    {
     "name": "stdout",
     "output_type": "stream",
     "text": [
      "3.0\n",
      "1.4142135623730951\n"
     ]
    }
   ],
   "source": [
    "# standard deviation is the square root of average of squared deviations \n",
    "# from the mean\n",
    "\n",
    "a = np.array([1, 2, 3, 4, 5])\n",
    "print(np.mean(a))\n",
    "print(np.std(a))\n",
    "# this value is nothing but the square root of 2."
   ]
  },
  {
   "cell_type": "code",
   "execution_count": null,
   "metadata": {
    "collapsed": true
   },
   "outputs": [],
   "source": [
    "\"\"\"\n",
    "In-class activity - create an ndarray with values [2, -4, 6], [7, 4, 8] and [5, 10, 4]. \n",
    "Determine the following:\n",
    "1) The maximum values along the columns and along the rows and for the whole array.\n",
    "2) The minimum values along the columns and along the rows and for the whole array.\n",
    "3) The mean and median values along the columns and along the rows and for the whole array.\n",
    "4) The ptp along columns and rows and for the whole array. \n",
    "5) The standard deviation. \n",
    "\"\"\""
   ]
  },
  {
   "cell_type": "code",
   "execution_count": 11,
   "metadata": {},
   "outputs": [
    {
     "name": "stdout",
     "output_type": "stream",
     "text": [
      "[[2 3]\n",
      " [5 6]\n",
      " [1 1]]\n",
      "[ 8 10]\n",
      "[ 5 11  2]\n"
     ]
    }
   ],
   "source": [
    "a = np.array([[2, 3],[5, 6],[1, 1]])\n",
    "print(a)\n",
    "print(a.sum(axis = 0))\n",
    "print(a.sum(axis = 1))"
   ]
  }
 ],
 "metadata": {
  "kernelspec": {
   "display_name": "Python 3",
   "language": "python",
   "name": "python3"
  },
  "language_info": {
   "codemirror_mode": {
    "name": "ipython",
    "version": 3
   },
   "file_extension": ".py",
   "mimetype": "text/x-python",
   "name": "python",
   "nbconvert_exporter": "python",
   "pygments_lexer": "ipython3",
   "version": "3.7.4"
  }
 },
 "nbformat": 4,
 "nbformat_minor": 2
}
